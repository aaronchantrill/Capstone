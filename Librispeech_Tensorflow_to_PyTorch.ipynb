{
 "cells": [
  {
   "cell_type": "code",
   "execution_count": 2,
   "id": "ffca43dd-3577-4b03-884a-cbc0a8ece1a9",
   "metadata": {},
   "outputs": [],
   "source": [
    "import onnx\n",
    "from onnx2pytorch import ConvertModel\n",
    "\n",
    "onnx_model = onnx.load('Librispeech_Tensorflow_model.onnx')\n",
    "pytorch_model = ConvertModel(onnx_model)"
   ]
  },
  {
   "cell_type": "code",
   "execution_count": 3,
   "id": "793c899a-c960-45c2-b39f-2e6ef742fc1a",
   "metadata": {},
   "outputs": [],
   "source": [
    "import pickle\n",
    "\n",
    "with open('Librispeech_Tensorflow_X_train.pkl','rb') as f:\n",
    "    X_train = pickle.load(f)\n",
    "with open('Librispeech_Tensorflow_y_train.pkl','rb') as f:\n",
    "    y_train = pickle.load(f)\n",
    "with open('Librispeech_Tensorflow_X_val.pkl','rb') as f:\n",
    "    X_val = pickle.load(f)\n",
    "with open('Librispeech_Tensorflow_y_val.pkl','rb') as f:\n",
    "    y_val = pickle.load(f)\n",
    "with open('Librispeech_Tensorflow_X_test.pkl','rb') as f:\n",
    "    X_test = pickle.load(f)\n",
    "with open('Librispeech_Tensorflow_y_test.pkl','rb') as f:\n",
    "    y_test = pickle.load(f)"
   ]
  },
  {
   "cell_type": "code",
   "execution_count": 4,
   "id": "72894df7-edf4-4f71-89f3-34adc7796023",
   "metadata": {},
   "outputs": [
    {
     "data": {
      "text/plain": [
       "ConvertModel(\n",
       "  (Gemm_sequential/dense/MatMul_Gemm__6:0): Linear(in_features=193, out_features=193, bias=True)\n",
       "  (Relu_sequential/dense/Relu:0): ReLU(inplace=True)\n",
       "  (Gemm_sequential/dense_1/MatMul_Gemm__7:0): Linear(in_features=128, out_features=193, bias=True)\n",
       "  (Relu_sequential/dense_1/Relu:0): ReLU(inplace=True)\n",
       "  (Gemm_sequential/dense_2/MatMul_Gemm__8:0): Linear(in_features=128, out_features=128, bias=True)\n",
       "  (Relu_sequential/dense_2/Relu:0): ReLU(inplace=True)\n",
       "  (Gemm_sequential/dense_3/MatMul_Gemm__9:0): Linear(in_features=251, out_features=128, bias=True)\n",
       "  (Softmax_dense_3): Softmax(dim=-1)\n",
       ")"
      ]
     },
     "execution_count": 4,
     "metadata": {},
     "output_type": "execute_result"
    }
   ],
   "source": [
    "pytorch_model.eval()"
   ]
  },
  {
   "cell_type": "code",
   "execution_count": 20,
   "id": "9a9e4b14-666b-4836-8251-72ee99a4a8cd",
   "metadata": {},
   "outputs": [],
   "source": [
    "import numpy as np\n",
    "import torch\n",
    "\n",
    "predicted = pytorch_model(torch.tensor(np.array([X_val[0]]), dtype=torch.float32)).argmax()"
   ]
  },
  {
   "cell_type": "code",
   "execution_count": 21,
   "id": "78a2635d-52f5-4cae-8bf5-5246717d133c",
   "metadata": {},
   "outputs": [
    {
     "data": {
      "text/plain": [
       "tensor(166)"
      ]
     },
     "execution_count": 21,
     "metadata": {},
     "output_type": "execute_result"
    }
   ],
   "source": [
    "predicted"
   ]
  },
  {
   "cell_type": "code",
   "execution_count": 23,
   "id": "456f0999-249e-44bf-8215-514d5f7dec5f",
   "metadata": {},
   "outputs": [
    {
     "data": {
      "text/plain": [
       "166"
      ]
     },
     "execution_count": 23,
     "metadata": {},
     "output_type": "execute_result"
    }
   ],
   "source": [
    "y_val[0].argmax()"
   ]
  },
  {
   "cell_type": "code",
   "execution_count": 37,
   "id": "ffdf05b8-ff9b-42cf-861c-ce707d52e793",
   "metadata": {},
   "outputs": [
    {
     "data": {
      "text/plain": [
       "==========================================================================================\n",
       "Layer (type:depth-idx)                   Output Shape              Param #\n",
       "==========================================================================================\n",
       "ConvertModel                             [1, 251]                  --\n",
       "├─Linear: 1-1                            [1, 193]                  37,442\n",
       "├─ReLU: 1-2                              [1, 193]                  --\n",
       "├─Linear: 1-3                            [1, 128]                  24,832\n",
       "├─ReLU: 1-4                              [1, 128]                  --\n",
       "├─Linear: 1-5                            [1, 128]                  16,512\n",
       "├─ReLU: 1-6                              [1, 128]                  --\n",
       "├─Linear: 1-7                            [1, 251]                  32,379\n",
       "├─Softmax: 1-8                           [1, 251]                  --\n",
       "==========================================================================================\n",
       "Total params: 111,165\n",
       "Trainable params: 111,165\n",
       "Non-trainable params: 0\n",
       "Total mult-adds (Units.MEGABYTES): 0.11\n",
       "==========================================================================================\n",
       "Input size (MB): 0.00\n",
       "Forward/backward pass size (MB): 0.01\n",
       "Params size (MB): 0.44\n",
       "Estimated Total Size (MB): 0.45\n",
       "=========================================================================================="
      ]
     },
     "execution_count": 37,
     "metadata": {},
     "output_type": "execute_result"
    }
   ],
   "source": [
    "from torchinfo import summary\n",
    "\n",
    "summary(pytorch_model, input_size=(1, 193))"
   ]
  },
  {
   "cell_type": "code",
   "execution_count": 35,
   "id": "426f26f7-6a40-4bf2-af19-6d8bdc719b61",
   "metadata": {},
   "outputs": [
    {
     "name": "stdout",
     "output_type": "stream",
     "text": [
      "Validation Loss: 4.5385, Validation Accuracy: 99.53\n"
     ]
    }
   ],
   "source": [
    "import torch\n",
    "from torch import nn\n",
    "from torch.utils.data import Dataset, DataLoader\n",
    "\n",
    "class CustomDataset(Dataset):\n",
    "    def __init__(self, parameters, labels, device):\n",
    "        self.parameters = parameters\n",
    "        self.labels = labels\n",
    "        self.device = device\n",
    "\n",
    "    def __len__(self):\n",
    "        return len(self.parameters)\n",
    "\n",
    "    def __getitem__(self, idx):\n",
    "        param = torch.tensor(self.parameters[idx], dtype=torch.float32).to(self.device)\n",
    "        label = torch.tensor(self.labels[idx].argmax(), dtype=torch.long).to(self.device)\n",
    "        return param, label\n",
    "\n",
    "val_loader = DataLoader(CustomDataset(X_val, y_val, 'cpu'), batch_size=1)\n",
    "pytorch_model.eval()\n",
    "criterion = nn.CrossEntropyLoss()\n",
    "val_loss_accumulator = 0.0\n",
    "val_correct_accumulator = 0\n",
    "val_total_samples = 0\n",
    "\n",
    "with torch.no_grad():\n",
    "    for data, targets in val_loader:\n",
    "        outputs = pytorch_model(data)\n",
    "        loss = criterion(outputs, targets)\n",
    "        val_loss_accumulator += loss.item() * data.size(0)\n",
    "        _, predicted = torch.max(outputs, 1)\n",
    "        val_correct_accumulator += (predicted==targets).sum().item()\n",
    "        val_total_samples += data.size(0)\n",
    "    val_loss = val_loss_accumulator / val_total_samples\n",
    "    val_accuracy = val_correct_accumulator / val_total_samples\n",
    "print(f\"Validation Loss: {val_loss:.4f}, Validation Accuracy: {(val_accuracy * 100):.2f}\")"
   ]
  },
  {
   "cell_type": "code",
   "execution_count": null,
   "id": "2275295f-0ab5-466a-beaf-d0366b31f2b1",
   "metadata": {},
   "outputs": [],
   "source": []
  }
 ],
 "metadata": {
  "kernelspec": {
   "display_name": "Python 3 (ipykernel)",
   "language": "python",
   "name": "python3"
  },
  "language_info": {
   "codemirror_mode": {
    "name": "ipython",
    "version": 3
   },
   "file_extension": ".py",
   "mimetype": "text/x-python",
   "name": "python",
   "nbconvert_exporter": "python",
   "pygments_lexer": "ipython3",
   "version": "3.11.7"
  }
 },
 "nbformat": 4,
 "nbformat_minor": 5
}
